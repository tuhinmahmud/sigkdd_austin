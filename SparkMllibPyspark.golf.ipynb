{
 "cells": [
  {
   "cell_type": "markdown",
   "metadata": {},
   "source": [
    "![Decision Tree](golf/Title.jpg \"Title\")"
   ]
  },
  {
   "cell_type": "code",
   "execution_count": 2,
   "metadata": {},
   "outputs": [
    {
     "name": "stdout",
     "output_type": "stream",
     "text": [
      "Welcome to\n",
      "      ____              __\n",
      "     / __/__  ___ _____/ /__\n",
      "    _\\ \\/ _ \\/ _ `/ __/  '_/\n",
      "   /__ / .__/\\_,_/_/ /_/\\_\\   version 2.2.0\n",
      "      /_/\n",
      "\n",
      "Using Python version 2.7.13 (default, Dec 20 2016 23:05:08)\n",
      "SparkSession available as 'spark'.\n"
     ]
    }
   ],
   "source": [
    "# Configure the necessary Spark environment\n",
    "import os\n",
    "import sys\n",
    "\n",
    "# Spark home\n",
    "spark_home = os.environ.get(\"SPARK_HOME\")\n",
    "\n",
    "# If Spark V1.4.x is detected, then add ' pyspark-shell' to\n",
    "# the end of the 'PYSPARK_SUBMIT_ARGS' environment variable\n",
    "spark_release_file = spark_home + \"/RELEASE\"\n",
    "if os.path.exists(spark_release_file) and \"Spark 1.4\" in open(spark_release_file).read():\n",
    "    pyspark_submit_args = os.environ.get(\"PYSPARK_SUBMIT_ARGS\", \"\")\n",
    "    if not \"pyspark-shell\" in pyspark_submit_args: pyspark_submit_args += \" pyspark-shell\"\n",
    "    os.environ[\"PYSPARK_SUBMIT_ARGS\"] = pyspark_submit_args\n",
    "\n",
    "# Add the spark python sub-directory to the path\n",
    "sys.path.insert(0, spark_home + \"/python\")\n",
    "\n",
    "# Add the py4j to the path.\n",
    "# You may need to change the version number to match your install\n",
    "sys.path.insert(0, os.path.join(spark_home, \"python/lib/py4j-0.8.2.1-src.zip\"))\n",
    "\n",
    "# Initialize PySpark to predefine the SparkContext variable 'sc'\n",
    "execfile(os.path.join(spark_home, \"python/pyspark/shell.py\"))"
   ]
  },
  {
   "cell_type": "code",
   "execution_count": 24,
   "metadata": {
    "collapsed": true
   },
   "outputs": [],
   "source": [
    "path=\"golf/golf.csv\"\n",
    "df = sqlContext.read.format('com.databricks.spark.csv') \\\n",
    "     .options(header='true', inferschema='true').load(path)\n",
    "    "
   ]
  },
  {
   "cell_type": "code",
   "execution_count": 25,
   "metadata": {},
   "outputs": [
    {
     "data": {
      "text/html": [
       "<div>\n",
       "<style>\n",
       "    .dataframe thead tr:only-child th {\n",
       "        text-align: right;\n",
       "    }\n",
       "\n",
       "    .dataframe thead th {\n",
       "        text-align: left;\n",
       "    }\n",
       "\n",
       "    .dataframe tbody tr th {\n",
       "        vertical-align: top;\n",
       "    }\n",
       "</style>\n",
       "<table border=\"1\" class=\"dataframe\">\n",
       "  <thead>\n",
       "    <tr style=\"text-align: right;\">\n",
       "      <th></th>\n",
       "      <th>Play</th>\n",
       "      <th>Outlook</th>\n",
       "      <th>NumericalTemp</th>\n",
       "      <th>NumericalHumidity</th>\n",
       "      <th>Windy</th>\n",
       "    </tr>\n",
       "  </thead>\n",
       "  <tbody>\n",
       "    <tr>\n",
       "      <th>0</th>\n",
       "      <td>0.0</td>\n",
       "      <td>sunny</td>\n",
       "      <td>85</td>\n",
       "      <td>85</td>\n",
       "      <td>False</td>\n",
       "    </tr>\n",
       "    <tr>\n",
       "      <th>1</th>\n",
       "      <td>0.0</td>\n",
       "      <td>sunny</td>\n",
       "      <td>80</td>\n",
       "      <td>90</td>\n",
       "      <td>True</td>\n",
       "    </tr>\n",
       "    <tr>\n",
       "      <th>2</th>\n",
       "      <td>1.0</td>\n",
       "      <td>overcast</td>\n",
       "      <td>83</td>\n",
       "      <td>86</td>\n",
       "      <td>False</td>\n",
       "    </tr>\n",
       "    <tr>\n",
       "      <th>3</th>\n",
       "      <td>1.0</td>\n",
       "      <td>rainy</td>\n",
       "      <td>70</td>\n",
       "      <td>96</td>\n",
       "      <td>False</td>\n",
       "    </tr>\n",
       "    <tr>\n",
       "      <th>4</th>\n",
       "      <td>1.0</td>\n",
       "      <td>rainy</td>\n",
       "      <td>68</td>\n",
       "      <td>80</td>\n",
       "      <td>False</td>\n",
       "    </tr>\n",
       "    <tr>\n",
       "      <th>5</th>\n",
       "      <td>0.0</td>\n",
       "      <td>rainy</td>\n",
       "      <td>65</td>\n",
       "      <td>70</td>\n",
       "      <td>True</td>\n",
       "    </tr>\n",
       "    <tr>\n",
       "      <th>6</th>\n",
       "      <td>1.0</td>\n",
       "      <td>overcast</td>\n",
       "      <td>64</td>\n",
       "      <td>65</td>\n",
       "      <td>True</td>\n",
       "    </tr>\n",
       "    <tr>\n",
       "      <th>7</th>\n",
       "      <td>0.0</td>\n",
       "      <td>sunny</td>\n",
       "      <td>72</td>\n",
       "      <td>95</td>\n",
       "      <td>False</td>\n",
       "    </tr>\n",
       "    <tr>\n",
       "      <th>8</th>\n",
       "      <td>1.0</td>\n",
       "      <td>sunny</td>\n",
       "      <td>69</td>\n",
       "      <td>70</td>\n",
       "      <td>False</td>\n",
       "    </tr>\n",
       "    <tr>\n",
       "      <th>9</th>\n",
       "      <td>1.0</td>\n",
       "      <td>sunny</td>\n",
       "      <td>75</td>\n",
       "      <td>80</td>\n",
       "      <td>False</td>\n",
       "    </tr>\n",
       "  </tbody>\n",
       "</table>\n",
       "</div>"
      ],
      "text/plain": [
       "   Play   Outlook  NumericalTemp  NumericalHumidity  Windy\n",
       "0   0.0     sunny             85                 85  False\n",
       "1   0.0     sunny             80                 90   True\n",
       "2   1.0  overcast             83                 86  False\n",
       "3   1.0     rainy             70                 96  False\n",
       "4   1.0     rainy             68                 80  False\n",
       "5   0.0     rainy             65                 70   True\n",
       "6   1.0  overcast             64                 65   True\n",
       "7   0.0     sunny             72                 95  False\n",
       "8   1.0     sunny             69                 70  False\n",
       "9   1.0     sunny             75                 80  False"
      ]
     },
     "execution_count": 25,
     "metadata": {},
     "output_type": "execute_result"
    }
   ],
   "source": [
    "panda_df=df.toPandas()\n",
    "panda_df.head(10)"
   ]
  },
  {
   "cell_type": "code",
   "execution_count": 26,
   "metadata": {},
   "outputs": [
    {
     "name": "stdout",
     "output_type": "stream",
     "text": [
      "+----+--------+-------------+-----------------+-----+------------+\n",
      "|Play| Outlook|NumericalTemp|NumericalHumidity|Windy|OutlookIndex|\n",
      "+----+--------+-------------+-----------------+-----+------------+\n",
      "| 0.0|   sunny|           85|               85|false|         0.0|\n",
      "| 0.0|   sunny|           80|               90| true|         0.0|\n",
      "| 1.0|overcast|           83|               86|false|         2.0|\n",
      "| 1.0|   rainy|           70|               96|false|         1.0|\n",
      "| 1.0|   rainy|           68|               80|false|         1.0|\n",
      "| 0.0|   rainy|           65|               70| true|         1.0|\n",
      "| 1.0|overcast|           64|               65| true|         2.0|\n",
      "| 0.0|   sunny|           72|               95|false|         0.0|\n",
      "| 1.0|   sunny|           69|               70|false|         0.0|\n",
      "| 1.0|   sunny|           75|               80|false|         0.0|\n",
      "| 1.0|   sunny|           75|               70| true|         0.0|\n",
      "| 1.0|overcast|           72|               90| true|         2.0|\n",
      "| 1.0|overcast|           81|               75|false|         2.0|\n",
      "| 0.0|   rainy|           71|               91| true|         1.0|\n",
      "+----+--------+-------------+-----------------+-----+------------+\n",
      "\n"
     ]
    }
   ],
   "source": [
    "from pyspark.ml.feature import StringIndexer\n",
    "indexer = StringIndexer(inputCol=\"Outlook\", outputCol=\"OutlookIndex\")\n",
    "indexed = indexer.fit(df).transform(df)\n",
    "indexed.show()"
   ]
  },
  {
   "cell_type": "code",
   "execution_count": 27,
   "metadata": {},
   "outputs": [
    {
     "data": {
      "text/plain": [
       "<matplotlib.text.Text at 0x110cc4b50>"
      ]
     },
     "execution_count": 27,
     "metadata": {},
     "output_type": "execute_result"
    },
    {
     "data": {
      "image/png": "[encoded data removed]",
      "text/plain": [
       "<matplotlib.figure.Figure at 0x1042bc150>"
      ]
     },
     "metadata": {},
     "output_type": "display_data"
    }
   ],
   "source": [
    "import matplotlib.pyplot as plt\n",
    "%matplotlib inline\n",
    "fig, ax = plt.subplots()\n",
    "plt.hist(df.toPandas()['NumericalTemp'], bins = 25)\n",
    "plt.xlabel('Temparature in C')\n",
    "plt.title('Distribution of Tempature of days')"
   ]
  },
  {
   "cell_type": "code",
   "execution_count": 28,
   "metadata": {},
   "outputs": [
    {
     "data": {
      "text/plain": [
       "<matplotlib.axes._subplots.AxesSubplot at 0x110cc5cd0>"
      ]
     },
     "execution_count": 28,
     "metadata": {},
     "output_type": "execute_result"
    },
    {
     "data": {
      "image/png": "[encoded data removed]",
      "text/plain": [
       "<matplotlib.figure.Figure at 0x110cf1fd0>"
      ]
     },
     "metadata": {},
     "output_type": "display_data"
    }
   ],
   "source": [
    "df.toPandas().plot(kind='bar')"
   ]
  },
  {
   "cell_type": "code",
   "execution_count": 29,
   "metadata": {
    "collapsed": true,
    "scrolled": false
   },
   "outputs": [],
   "source": [
    "from pyspark.mllib.regression import LabeledPoint\n",
    "\n",
    "outlook = {\"sunny\": 0.0, \"overcast\": 1.0, \"rainy\": 2.0}\n",
    "\n",
    "labeledpoints = [\n",
    "\n",
    "    LabeledPoint(0.0, [outlook[\"sunny\"],85,85,False]),\n",
    "\n",
    "    LabeledPoint(0.0, [outlook[\"sunny\"],80,90,True]),\n",
    "\n",
    "    LabeledPoint(1.0, [outlook[\"overcast\"],83,86,False]),\n",
    "\n",
    "    LabeledPoint(1.0, [outlook[\"rainy\"],70,96,False]),\n",
    "\n",
    "    LabeledPoint(1.0, [outlook[\"rainy\"],68,80,False]),\n",
    "\n",
    "    LabeledPoint(0.0, [outlook[\"rainy\"],65,70,True]),\n",
    "\n",
    "    LabeledPoint(1.0, [outlook[\"overcast\"],64,65,True]),\n",
    "\n",
    "    LabeledPoint(0.0, [outlook[\"sunny\"],72,95,False]),\n",
    "\n",
    "    LabeledPoint(1.0, [outlook[\"sunny\"],69,70,False]),\n",
    "\n",
    "    LabeledPoint(1.0, [outlook[\"sunny\"],75,80,False]),\n",
    "\n",
    "    LabeledPoint(1.0, [outlook[\"sunny\"],75,70,True]),\n",
    "\n",
    "    LabeledPoint(1.0, [outlook[\"overcast\"],72,90,True]),\n",
    "\n",
    "    LabeledPoint(1.0, [outlook[\"overcast\"],81,75,False]),\n",
    "\n",
    "    LabeledPoint(0.0, [outlook[\"rainy\"],71,91,True])\n",
    "\n",
    "    ]\n",
    "\n",
    "data = sc.parallelize(labeledpoints)"
   ]
  },
  {
   "cell_type": "code",
   "execution_count": 30,
   "metadata": {
    "collapsed": true
   },
   "outputs": [],
   "source": [
    "from pyspark.mllib.tree import DecisionTree\n",
    "\n",
    "model = DecisionTree.trainClassifier(data=data,\n",
    "\n",
    "         numClasses=2,\n",
    "\n",
    "         categoricalFeaturesInfo={0: 3})"
   ]
  },
  {
   "cell_type": "markdown",
   "metadata": {},
   "source": [
    "## Decision tree Structure of the model "
   ]
  },
  {
   "cell_type": "markdown",
   "metadata": {},
   "source": [
    "    feature  feature Name\n",
    "    -------  ------------\n",
    "    feature0 Outlook\n",
    "    feuture1 NumericalTemp\n",
    "    feature2 NumericalHumidity\n",
    "    feautre3 Windy\n",
    "    feature4 OutlookIndex"
   ]
  },
  {
   "cell_type": "code",
   "execution_count": 10,
   "metadata": {},
   "outputs": [
    {
     "name": "stdout",
     "output_type": "stream",
     "text": [
      "DecisionTreeModel classifier of depth 3 with 9 nodes\n",
      "  If (feature 0 in {0.0,2.0})\n",
      "   If (feature 2 <= 80.0)\n",
      "    If (feature 1 <= 65.0)\n",
      "     Predict: 0.0\n",
      "    Else (feature 1 > 65.0)\n",
      "     Predict: 1.0\n",
      "   Else (feature 2 > 80.0)\n",
      "    If (feature 1 <= 70.0)\n",
      "     Predict: 1.0\n",
      "    Else (feature 1 > 70.0)\n",
      "     Predict: 0.0\n",
      "  Else (feature 0 not in {0.0,2.0})\n",
      "   Predict: 1.0\n",
      "\n"
     ]
    }
   ],
   "source": [
    "print(model.toDebugString())"
   ]
  },
  {
   "cell_type": "markdown",
   "metadata": {
    "collapsed": true
   },
   "source": [
    "![Decision Tree](golf/DecisionTree.jpg \"Title\")"
   ]
  },
  {
   "cell_type": "markdown",
   "metadata": {},
   "source": [
    "![Decision Tree](golf/DecisionTree2.jpg \"Title\")"
   ]
  },
  {
   "cell_type": "code",
   "execution_count": 11,
   "metadata": {},
   "outputs": [
    {
     "data": {
      "text/plain": [
       "[LabeledPoint(0.0, [0.0,85.0,85.0,0.0]),\n",
       " LabeledPoint(0.0, [0.0,80.0,90.0,1.0]),\n",
       " LabeledPoint(1.0, [1.0,83.0,86.0,0.0]),\n",
       " LabeledPoint(1.0, [2.0,70.0,96.0,0.0]),\n",
       " LabeledPoint(1.0, [2.0,68.0,80.0,0.0]),\n",
       " LabeledPoint(0.0, [2.0,65.0,70.0,1.0]),\n",
       " LabeledPoint(1.0, [1.0,64.0,65.0,1.0]),\n",
       " LabeledPoint(0.0, [0.0,72.0,95.0,0.0]),\n",
       " LabeledPoint(1.0, [0.0,69.0,70.0,0.0]),\n",
       " LabeledPoint(1.0, [0.0,75.0,80.0,0.0]),\n",
       " LabeledPoint(1.0, [0.0,75.0,70.0,1.0]),\n",
       " LabeledPoint(1.0, [1.0,72.0,90.0,1.0]),\n",
       " LabeledPoint(1.0, [1.0,81.0,75.0,0.0]),\n",
       " LabeledPoint(0.0, [2.0,71.0,91.0,1.0])]"
      ]
     },
     "execution_count": 11,
     "metadata": {},
     "output_type": "execute_result"
    }
   ],
   "source": [
    "labeledpoints"
   ]
  },
  {
   "cell_type": "code",
   "execution_count": 18,
   "metadata": {
    "collapsed": true
   },
   "outputs": [],
   "source": [
    "#outlook = {\"sunny\": 0.0, \"overcast\": 1.0, \"rainy\": 2.0}"
   ]
  },
  {
   "cell_type": "code",
   "execution_count": 15,
   "metadata": {},
   "outputs": [
    {
     "data": {
      "text/plain": [
       "0.0"
      ]
     },
     "execution_count": 15,
     "metadata": {},
     "output_type": "execute_result"
    }
   ],
   "source": [
    "model.predict([0.0,80,90,True])"
   ]
  },
  {
   "cell_type": "code",
   "execution_count": 19,
   "metadata": {},
   "outputs": [
    {
     "data": {
      "text/plain": [
       "1.0"
      ]
     },
     "execution_count": 19,
     "metadata": {},
     "output_type": "execute_result"
    }
   ],
   "source": [
    "#Actual.   outlook.  temp. humidity. windy\n",
    "# 1.0, [outlook[\"sunny\"],69,70,False]\n",
    "\n",
    "model.predict([0.0,69,70,False])"
   ]
  },
  {
   "cell_type": "code",
   "execution_count": 22,
   "metadata": {},
   "outputs": [
    {
     "data": {
      "text/plain": [
       "0.0"
      ]
     },
     "execution_count": 22,
     "metadata": {},
     "output_type": "execute_result"
    }
   ],
   "source": [
    "model.predict([2.0,71.0,91.0,1.0])"
   ]
  },
  {
   "cell_type": "code",
   "execution_count": 23,
   "metadata": {},
   "outputs": [
    {
     "data": {
      "text/plain": [
       "0.0"
      ]
     },
     "execution_count": 23,
     "metadata": {},
     "output_type": "execute_result"
    }
   ],
   "source": [
    "model.predict([0.0,85.0,85.0,0.0])"
   ]
  },
  {
   "cell_type": "code",
   "execution_count": null,
   "metadata": {
    "collapsed": true
   },
   "outputs": [],
   "source": []
  }
 ],
 "metadata": {
  "kernelspec": {
   "display_name": "Python 2",
   "language": "python",
   "name": "python2"
  },
  "language_info": {
   "codemirror_mode": {
    "name": "ipython",
    "version": 2
   },
   "file_extension": ".py",
   "mimetype": "text/x-python",
   "name": "python",
   "nbconvert_exporter": "python",
   "pygments_lexer": "ipython2",
   "version": "2.7.13"
  }
 },
 "nbformat": 4,
 "nbformat_minor": 2
}
